{
 "cells": [
  {
   "cell_type": "code",
   "execution_count": 1,
   "metadata": {},
   "outputs": [],
   "source": [
    "# Basic data manipulation and visualization\n",
    "import numpy as np\n",
    "import pandas as pd\n",
    "from matplotlib import pyplot as plt\n",
    "import seaborn as sns\n",
    "\n",
    "# Metrics\n",
    "from sklearn.metrics import (\n",
    "    classification_report,\n",
    "    confusion_matrix,\n",
    ")\n",
    "\n",
    "# Functions\n",
    "from utils import *\n",
    "\n",
    "import warnings\n",
    "\n",
    "warnings.simplefilter(\"ignore\")"
   ]
  },
  {
   "cell_type": "markdown",
   "metadata": {},
   "source": [
    "1. Identification of the cost of missclassification."
   ]
  },
  {
   "attachments": {},
   "cell_type": "markdown",
   "metadata": {},
   "source": [
    "ASSUMPTIONS:\n",
    "-  I treat 'bad loans' as a loan that in 95% is repaid on time. 5% of the final amount is not reachable. \n",
    "-  false negative is the loss occured by this 5% not repaid.\n",
    "-  I am taking random 1000 samples with bad loans to make calculation.\n",
    "-  I assume that current solution predict bad loans as true positive = 600 to false negative = 400.\n",
    "-  i a not taking into acount the profits for lenders, only loss."
   ]
  },
  {
   "cell_type": "code",
   "execution_count": 10,
   "metadata": {},
   "outputs": [
    {
     "data": {
      "text/html": [
       "<div>\n",
       "<style scoped>\n",
       "    .dataframe tbody tr th:only-of-type {\n",
       "        vertical-align: middle;\n",
       "    }\n",
       "\n",
       "    .dataframe tbody tr th {\n",
       "        vertical-align: top;\n",
       "    }\n",
       "\n",
       "    .dataframe thead th {\n",
       "        text-align: right;\n",
       "    }\n",
       "</style>\n",
       "<table border=\"1\" class=\"dataframe\">\n",
       "  <thead>\n",
       "    <tr style=\"text-align: right;\">\n",
       "      <th></th>\n",
       "      <th>Unnamed: 0</th>\n",
       "      <th>TARGET</th>\n",
       "      <th>AMT_CREDIT</th>\n",
       "      <th>AMT_ANNUITY</th>\n",
       "      <th>CODE_GENDER</th>\n",
       "      <th>DAYS_EMPLOYED</th>\n",
       "      <th>NAME_EDUCATION_TYPE</th>\n",
       "      <th>DAYS_BIRTH</th>\n",
       "      <th>NAME_FAMILY_STATUS</th>\n",
       "      <th>NAME_INCOME_TYPE</th>\n",
       "      <th>FLAG_OWN_CAR</th>\n",
       "      <th>OWN_CAR_AGE</th>\n",
       "      <th>EXT_SOURCE_1</th>\n",
       "      <th>EXT_SOURCE_2</th>\n",
       "      <th>EXT_SOURCE_3</th>\n",
       "      <th>PAYMENT_RATIO</th>\n",
       "      <th>TOTAL_NB_POS_CASH</th>\n",
       "      <th>TOTAL_PAYMENT_AGREEMENT</th>\n",
       "    </tr>\n",
       "  </thead>\n",
       "  <tbody>\n",
       "    <tr>\n",
       "      <th>0</th>\n",
       "      <td>0</td>\n",
       "      <td>1</td>\n",
       "      <td>406597.5</td>\n",
       "      <td>24700.5</td>\n",
       "      <td>M</td>\n",
       "      <td>-637</td>\n",
       "      <td>Secondary / secondary special</td>\n",
       "      <td>-9461</td>\n",
       "      <td>Single / not married</td>\n",
       "      <td>Working</td>\n",
       "      <td>N</td>\n",
       "      <td>NaN</td>\n",
       "      <td>0.083037</td>\n",
       "      <td>0.262949</td>\n",
       "      <td>0.139376</td>\n",
       "      <td>1.000000</td>\n",
       "      <td>19.0</td>\n",
       "      <td>219625.695</td>\n",
       "    </tr>\n",
       "    <tr>\n",
       "      <th>1</th>\n",
       "      <td>1</td>\n",
       "      <td>0</td>\n",
       "      <td>1293502.5</td>\n",
       "      <td>35698.5</td>\n",
       "      <td>F</td>\n",
       "      <td>-1188</td>\n",
       "      <td>Higher education</td>\n",
       "      <td>-16765</td>\n",
       "      <td>Married</td>\n",
       "      <td>State servant</td>\n",
       "      <td>N</td>\n",
       "      <td>NaN</td>\n",
       "      <td>0.311267</td>\n",
       "      <td>0.622246</td>\n",
       "      <td>NaN</td>\n",
       "      <td>1.000000</td>\n",
       "      <td>28.0</td>\n",
       "      <td>1618864.650</td>\n",
       "    </tr>\n",
       "    <tr>\n",
       "      <th>2</th>\n",
       "      <td>2</td>\n",
       "      <td>0</td>\n",
       "      <td>135000.0</td>\n",
       "      <td>6750.0</td>\n",
       "      <td>M</td>\n",
       "      <td>-225</td>\n",
       "      <td>Secondary / secondary special</td>\n",
       "      <td>-19046</td>\n",
       "      <td>Single / not married</td>\n",
       "      <td>Working</td>\n",
       "      <td>Y</td>\n",
       "      <td>26.0</td>\n",
       "      <td>NaN</td>\n",
       "      <td>0.555912</td>\n",
       "      <td>0.729567</td>\n",
       "      <td>1.000000</td>\n",
       "      <td>4.0</td>\n",
       "      <td>21288.465</td>\n",
       "    </tr>\n",
       "    <tr>\n",
       "      <th>3</th>\n",
       "      <td>3</td>\n",
       "      <td>0</td>\n",
       "      <td>312682.5</td>\n",
       "      <td>29686.5</td>\n",
       "      <td>F</td>\n",
       "      <td>-3039</td>\n",
       "      <td>Secondary / secondary special</td>\n",
       "      <td>-19005</td>\n",
       "      <td>Civil marriage</td>\n",
       "      <td>Working</td>\n",
       "      <td>N</td>\n",
       "      <td>NaN</td>\n",
       "      <td>NaN</td>\n",
       "      <td>0.650442</td>\n",
       "      <td>NaN</td>\n",
       "      <td>1.000000</td>\n",
       "      <td>21.0</td>\n",
       "      <td>1007153.415</td>\n",
       "    </tr>\n",
       "    <tr>\n",
       "      <th>4</th>\n",
       "      <td>4</td>\n",
       "      <td>0</td>\n",
       "      <td>513000.0</td>\n",
       "      <td>21865.5</td>\n",
       "      <td>M</td>\n",
       "      <td>-3038</td>\n",
       "      <td>Secondary / secondary special</td>\n",
       "      <td>-19932</td>\n",
       "      <td>Single / not married</td>\n",
       "      <td>Working</td>\n",
       "      <td>N</td>\n",
       "      <td>NaN</td>\n",
       "      <td>NaN</td>\n",
       "      <td>0.322738</td>\n",
       "      <td>NaN</td>\n",
       "      <td>0.964285</td>\n",
       "      <td>66.0</td>\n",
       "      <td>835985.340</td>\n",
       "    </tr>\n",
       "  </tbody>\n",
       "</table>\n",
       "</div>"
      ],
      "text/plain": [
       "   Unnamed: 0  TARGET  AMT_CREDIT  AMT_ANNUITY CODE_GENDER  DAYS_EMPLOYED  \\\n",
       "0           0       1    406597.5      24700.5           M           -637   \n",
       "1           1       0   1293502.5      35698.5           F          -1188   \n",
       "2           2       0    135000.0       6750.0           M           -225   \n",
       "3           3       0    312682.5      29686.5           F          -3039   \n",
       "4           4       0    513000.0      21865.5           M          -3038   \n",
       "\n",
       "             NAME_EDUCATION_TYPE  DAYS_BIRTH    NAME_FAMILY_STATUS  \\\n",
       "0  Secondary / secondary special       -9461  Single / not married   \n",
       "1               Higher education      -16765               Married   \n",
       "2  Secondary / secondary special      -19046  Single / not married   \n",
       "3  Secondary / secondary special      -19005        Civil marriage   \n",
       "4  Secondary / secondary special      -19932  Single / not married   \n",
       "\n",
       "  NAME_INCOME_TYPE FLAG_OWN_CAR  OWN_CAR_AGE  EXT_SOURCE_1  EXT_SOURCE_2  \\\n",
       "0          Working            N          NaN      0.083037      0.262949   \n",
       "1    State servant            N          NaN      0.311267      0.622246   \n",
       "2          Working            Y         26.0           NaN      0.555912   \n",
       "3          Working            N          NaN           NaN      0.650442   \n",
       "4          Working            N          NaN           NaN      0.322738   \n",
       "\n",
       "   EXT_SOURCE_3  PAYMENT_RATIO  TOTAL_NB_POS_CASH  TOTAL_PAYMENT_AGREEMENT  \n",
       "0      0.139376       1.000000               19.0               219625.695  \n",
       "1           NaN       1.000000               28.0              1618864.650  \n",
       "2      0.729567       1.000000                4.0                21288.465  \n",
       "3           NaN       1.000000               21.0              1007153.415  \n",
       "4           NaN       0.964285               66.0               835985.340  "
      ]
     },
     "execution_count": 10,
     "metadata": {},
     "output_type": "execute_result"
    }
   ],
   "source": [
    "data = pd.read_csv(\"data_for_cost_calculation.csv\", low_memory=False)\n",
    "data.head()\n"
   ]
  },
  {
   "cell_type": "code",
   "execution_count": 11,
   "metadata": {},
   "outputs": [],
   "source": [
    "bad_loans = (\n",
    "    data[data[\"TARGET\"] == 1]\n",
    "    .drop(columns=\"Unnamed: 0\", axis=1)\n",
    "    .sample(n=1000, random_state=0)\n",
    ")"
   ]
  },
  {
   "cell_type": "code",
   "execution_count": 14,
   "metadata": {},
   "outputs": [],
   "source": [
    "model = pickle.load(open(\"problem_loan_class.pkl\", \"rb\"))\n"
   ]
  },
  {
   "cell_type": "code",
   "execution_count": 18,
   "metadata": {},
   "outputs": [],
   "source": [
    "predictions = model.predict(bad_loans.drop(columns=[\"TARGET\", \"AMT_ANNUITY\"], axis=1))\n",
    "probabilities = model.predict_proba(bad_loans)"
   ]
  },
  {
   "cell_type": "code",
   "execution_count": 23,
   "metadata": {},
   "outputs": [],
   "source": [
    "bad_loans[\"predictions\"] = predictions\n",
    "bad_loans[\"probability_class_0\"] = probabilities[:, 0]\n",
    "bad_loans[\"probability_class_1\"] = probabilities[:, 1]"
   ]
  },
  {
   "cell_type": "code",
   "execution_count": 24,
   "metadata": {},
   "outputs": [
    {
     "data": {
      "text/html": [
       "<div>\n",
       "<style scoped>\n",
       "    .dataframe tbody tr th:only-of-type {\n",
       "        vertical-align: middle;\n",
       "    }\n",
       "\n",
       "    .dataframe tbody tr th {\n",
       "        vertical-align: top;\n",
       "    }\n",
       "\n",
       "    .dataframe thead th {\n",
       "        text-align: right;\n",
       "    }\n",
       "</style>\n",
       "<table border=\"1\" class=\"dataframe\">\n",
       "  <thead>\n",
       "    <tr style=\"text-align: right;\">\n",
       "      <th></th>\n",
       "      <th>TARGET</th>\n",
       "      <th>AMT_CREDIT</th>\n",
       "      <th>AMT_ANNUITY</th>\n",
       "      <th>CODE_GENDER</th>\n",
       "      <th>DAYS_EMPLOYED</th>\n",
       "      <th>NAME_EDUCATION_TYPE</th>\n",
       "      <th>DAYS_BIRTH</th>\n",
       "      <th>NAME_FAMILY_STATUS</th>\n",
       "      <th>NAME_INCOME_TYPE</th>\n",
       "      <th>FLAG_OWN_CAR</th>\n",
       "      <th>OWN_CAR_AGE</th>\n",
       "      <th>EXT_SOURCE_1</th>\n",
       "      <th>EXT_SOURCE_2</th>\n",
       "      <th>EXT_SOURCE_3</th>\n",
       "      <th>PAYMENT_RATIO</th>\n",
       "      <th>TOTAL_NB_POS_CASH</th>\n",
       "      <th>TOTAL_PAYMENT_AGREEMENT</th>\n",
       "      <th>predictions</th>\n",
       "      <th>probability_class_0</th>\n",
       "      <th>probability_class_1</th>\n",
       "    </tr>\n",
       "  </thead>\n",
       "  <tbody>\n",
       "    <tr>\n",
       "      <th>128379</th>\n",
       "      <td>1</td>\n",
       "      <td>497520.0</td>\n",
       "      <td>33376.5</td>\n",
       "      <td>M</td>\n",
       "      <td>-511</td>\n",
       "      <td>Secondary / secondary special</td>\n",
       "      <td>-8545</td>\n",
       "      <td>Single / not married</td>\n",
       "      <td>Working</td>\n",
       "      <td>N</td>\n",
       "      <td>NaN</td>\n",
       "      <td>NaN</td>\n",
       "      <td>0.262241</td>\n",
       "      <td>0.328063</td>\n",
       "      <td>0.999779</td>\n",
       "      <td>44.0</td>\n",
       "      <td>21823.515</td>\n",
       "      <td>1</td>\n",
       "      <td>0.211315</td>\n",
       "      <td>0.788685</td>\n",
       "    </tr>\n",
       "    <tr>\n",
       "      <th>65204</th>\n",
       "      <td>1</td>\n",
       "      <td>284400.0</td>\n",
       "      <td>19134.0</td>\n",
       "      <td>M</td>\n",
       "      <td>-2942</td>\n",
       "      <td>Secondary / secondary special</td>\n",
       "      <td>-16065</td>\n",
       "      <td>Married</td>\n",
       "      <td>Working</td>\n",
       "      <td>Y</td>\n",
       "      <td>9.0</td>\n",
       "      <td>NaN</td>\n",
       "      <td>0.034349</td>\n",
       "      <td>0.556727</td>\n",
       "      <td>1.000000</td>\n",
       "      <td>12.0</td>\n",
       "      <td>173073.600</td>\n",
       "      <td>1</td>\n",
       "      <td>0.199060</td>\n",
       "      <td>0.800940</td>\n",
       "    </tr>\n",
       "    <tr>\n",
       "      <th>115547</th>\n",
       "      <td>1</td>\n",
       "      <td>755190.0</td>\n",
       "      <td>36459.0</td>\n",
       "      <td>F</td>\n",
       "      <td>-6183</td>\n",
       "      <td>Secondary / secondary special</td>\n",
       "      <td>-15003</td>\n",
       "      <td>Civil marriage</td>\n",
       "      <td>Working</td>\n",
       "      <td>N</td>\n",
       "      <td>NaN</td>\n",
       "      <td>NaN</td>\n",
       "      <td>0.551054</td>\n",
       "      <td>0.355639</td>\n",
       "      <td>0.748576</td>\n",
       "      <td>27.0</td>\n",
       "      <td>452046.690</td>\n",
       "      <td>1</td>\n",
       "      <td>0.475819</td>\n",
       "      <td>0.524181</td>\n",
       "    </tr>\n",
       "    <tr>\n",
       "      <th>73799</th>\n",
       "      <td>1</td>\n",
       "      <td>622413.0</td>\n",
       "      <td>31909.5</td>\n",
       "      <td>F</td>\n",
       "      <td>-1816</td>\n",
       "      <td>Secondary / secondary special</td>\n",
       "      <td>-12258</td>\n",
       "      <td>Civil marriage</td>\n",
       "      <td>Working</td>\n",
       "      <td>N</td>\n",
       "      <td>NaN</td>\n",
       "      <td>NaN</td>\n",
       "      <td>0.249802</td>\n",
       "      <td>0.483050</td>\n",
       "      <td>0.939113</td>\n",
       "      <td>25.0</td>\n",
       "      <td>507225.825</td>\n",
       "      <td>1</td>\n",
       "      <td>0.293103</td>\n",
       "      <td>0.706897</td>\n",
       "    </tr>\n",
       "    <tr>\n",
       "      <th>11423</th>\n",
       "      <td>1</td>\n",
       "      <td>302544.0</td>\n",
       "      <td>14233.5</td>\n",
       "      <td>F</td>\n",
       "      <td>-986</td>\n",
       "      <td>Lower secondary</td>\n",
       "      <td>-13046</td>\n",
       "      <td>Civil marriage</td>\n",
       "      <td>Working</td>\n",
       "      <td>N</td>\n",
       "      <td>NaN</td>\n",
       "      <td>NaN</td>\n",
       "      <td>0.646339</td>\n",
       "      <td>0.251239</td>\n",
       "      <td>1.000000</td>\n",
       "      <td>10.0</td>\n",
       "      <td>70768.485</td>\n",
       "      <td>1</td>\n",
       "      <td>0.294932</td>\n",
       "      <td>0.705068</td>\n",
       "    </tr>\n",
       "  </tbody>\n",
       "</table>\n",
       "</div>"
      ],
      "text/plain": [
       "        TARGET  AMT_CREDIT  AMT_ANNUITY CODE_GENDER  DAYS_EMPLOYED  \\\n",
       "128379       1    497520.0      33376.5           M           -511   \n",
       "65204        1    284400.0      19134.0           M          -2942   \n",
       "115547       1    755190.0      36459.0           F          -6183   \n",
       "73799        1    622413.0      31909.5           F          -1816   \n",
       "11423        1    302544.0      14233.5           F           -986   \n",
       "\n",
       "                  NAME_EDUCATION_TYPE  DAYS_BIRTH    NAME_FAMILY_STATUS  \\\n",
       "128379  Secondary / secondary special       -8545  Single / not married   \n",
       "65204   Secondary / secondary special      -16065               Married   \n",
       "115547  Secondary / secondary special      -15003        Civil marriage   \n",
       "73799   Secondary / secondary special      -12258        Civil marriage   \n",
       "11423                 Lower secondary      -13046        Civil marriage   \n",
       "\n",
       "       NAME_INCOME_TYPE FLAG_OWN_CAR  OWN_CAR_AGE  EXT_SOURCE_1  EXT_SOURCE_2  \\\n",
       "128379          Working            N          NaN           NaN      0.262241   \n",
       "65204           Working            Y          9.0           NaN      0.034349   \n",
       "115547          Working            N          NaN           NaN      0.551054   \n",
       "73799           Working            N          NaN           NaN      0.249802   \n",
       "11423           Working            N          NaN           NaN      0.646339   \n",
       "\n",
       "        EXT_SOURCE_3  PAYMENT_RATIO  TOTAL_NB_POS_CASH  \\\n",
       "128379      0.328063       0.999779               44.0   \n",
       "65204       0.556727       1.000000               12.0   \n",
       "115547      0.355639       0.748576               27.0   \n",
       "73799       0.483050       0.939113               25.0   \n",
       "11423       0.251239       1.000000               10.0   \n",
       "\n",
       "        TOTAL_PAYMENT_AGREEMENT  predictions  probability_class_0  \\\n",
       "128379                21823.515            1             0.211315   \n",
       "65204                173073.600            1             0.199060   \n",
       "115547               452046.690            1             0.475819   \n",
       "73799                507225.825            1             0.293103   \n",
       "11423                 70768.485            1             0.294932   \n",
       "\n",
       "        probability_class_1  \n",
       "128379             0.788685  \n",
       "65204              0.800940  \n",
       "115547             0.524181  \n",
       "73799              0.706897  \n",
       "11423              0.705068  "
      ]
     },
     "execution_count": 24,
     "metadata": {},
     "output_type": "execute_result"
    }
   ],
   "source": [
    "bad_loans.head()\n"
   ]
  },
  {
   "cell_type": "code",
   "execution_count": 27,
   "metadata": {},
   "outputs": [
    {
     "data": {
      "text/html": [
       "<style type=\"text/css\">\n",
       "#T_57e60_row0_col0, #T_57e60_row0_col1, #T_57e60_row0_col2, #T_57e60_row0_col3, #T_57e60_row2_col3 {\n",
       "  background-color: #f7fbff;\n",
       "  color: #000000;\n",
       "}\n",
       "#T_57e60_row1_col0, #T_57e60_row1_col1, #T_57e60_row1_col2, #T_57e60_row1_col3, #T_57e60_row2_col1, #T_57e60_row3_col3, #T_57e60_row4_col0, #T_57e60_row4_col1, #T_57e60_row4_col2, #T_57e60_row4_col3 {\n",
       "  background-color: #08306b;\n",
       "  color: #f1f1f1;\n",
       "}\n",
       "#T_57e60_row2_col0 {\n",
       "  background-color: #3383be;\n",
       "  color: #f1f1f1;\n",
       "}\n",
       "#T_57e60_row2_col2 {\n",
       "  background-color: #0e59a2;\n",
       "  color: #f1f1f1;\n",
       "}\n",
       "#T_57e60_row3_col0, #T_57e60_row3_col1, #T_57e60_row3_col2 {\n",
       "  background-color: #6aaed6;\n",
       "  color: #f1f1f1;\n",
       "}\n",
       "</style>\n",
       "<table id=\"T_57e60\">\n",
       "  <thead>\n",
       "    <tr>\n",
       "      <th class=\"blank level0\" >&nbsp;</th>\n",
       "      <th id=\"T_57e60_level0_col0\" class=\"col_heading level0 col0\" >precision</th>\n",
       "      <th id=\"T_57e60_level0_col1\" class=\"col_heading level0 col1\" >recall</th>\n",
       "      <th id=\"T_57e60_level0_col2\" class=\"col_heading level0 col2\" >f1-score</th>\n",
       "      <th id=\"T_57e60_level0_col3\" class=\"col_heading level0 col3\" >support</th>\n",
       "    </tr>\n",
       "  </thead>\n",
       "  <tbody>\n",
       "    <tr>\n",
       "      <th id=\"T_57e60_level0_row0\" class=\"row_heading level0 row0\" >0</th>\n",
       "      <td id=\"T_57e60_row0_col0\" class=\"data row0 col0\" >0.000000</td>\n",
       "      <td id=\"T_57e60_row0_col1\" class=\"data row0 col1\" >0.000000</td>\n",
       "      <td id=\"T_57e60_row0_col2\" class=\"data row0 col2\" >0.000000</td>\n",
       "      <td id=\"T_57e60_row0_col3\" class=\"data row0 col3\" >0.000000</td>\n",
       "    </tr>\n",
       "    <tr>\n",
       "      <th id=\"T_57e60_level0_row1\" class=\"row_heading level0 row1\" >1</th>\n",
       "      <td id=\"T_57e60_row1_col0\" class=\"data row1 col0\" >1.000000</td>\n",
       "      <td id=\"T_57e60_row1_col1\" class=\"data row1 col1\" >0.683000</td>\n",
       "      <td id=\"T_57e60_row1_col2\" class=\"data row1 col2\" >0.811646</td>\n",
       "      <td id=\"T_57e60_row1_col3\" class=\"data row1 col3\" >1000.000000</td>\n",
       "    </tr>\n",
       "    <tr>\n",
       "      <th id=\"T_57e60_level0_row2\" class=\"row_heading level0 row2\" >accuracy</th>\n",
       "      <td id=\"T_57e60_row2_col0\" class=\"data row2 col0\" >0.683000</td>\n",
       "      <td id=\"T_57e60_row2_col1\" class=\"data row2 col1\" >0.683000</td>\n",
       "      <td id=\"T_57e60_row2_col2\" class=\"data row2 col2\" >0.683000</td>\n",
       "      <td id=\"T_57e60_row2_col3\" class=\"data row2 col3\" >0.683000</td>\n",
       "    </tr>\n",
       "    <tr>\n",
       "      <th id=\"T_57e60_level0_row3\" class=\"row_heading level0 row3\" >macro avg</th>\n",
       "      <td id=\"T_57e60_row3_col0\" class=\"data row3 col0\" >0.500000</td>\n",
       "      <td id=\"T_57e60_row3_col1\" class=\"data row3 col1\" >0.341500</td>\n",
       "      <td id=\"T_57e60_row3_col2\" class=\"data row3 col2\" >0.405823</td>\n",
       "      <td id=\"T_57e60_row3_col3\" class=\"data row3 col3\" >1000.000000</td>\n",
       "    </tr>\n",
       "    <tr>\n",
       "      <th id=\"T_57e60_level0_row4\" class=\"row_heading level0 row4\" >weighted avg</th>\n",
       "      <td id=\"T_57e60_row4_col0\" class=\"data row4 col0\" >1.000000</td>\n",
       "      <td id=\"T_57e60_row4_col1\" class=\"data row4 col1\" >0.683000</td>\n",
       "      <td id=\"T_57e60_row4_col2\" class=\"data row4 col2\" >0.811646</td>\n",
       "      <td id=\"T_57e60_row4_col3\" class=\"data row4 col3\" >1000.000000</td>\n",
       "    </tr>\n",
       "  </tbody>\n",
       "</table>\n"
      ],
      "text/plain": [
       "<pandas.io.formats.style.Styler at 0x2741d34e950>"
      ]
     },
     "execution_count": 27,
     "metadata": {},
     "output_type": "execute_result"
    }
   ],
   "source": [
    "report_as_df(bad_loans[\"TARGET\"], bad_loans[\"predictions\"])"
   ]
  },
  {
   "cell_type": "code",
   "execution_count": 28,
   "metadata": {},
   "outputs": [
    {
     "data": {
      "text/plain": [
       "array([[  0,   0],\n",
       "       [317, 683]], dtype=int64)"
      ]
     },
     "execution_count": 28,
     "metadata": {},
     "output_type": "execute_result"
    }
   ],
   "source": [
    "confusion_matrix(bad_loans[\"TARGET\"], bad_loans[\"predictions\"])"
   ]
  },
  {
   "attachments": {},
   "cell_type": "markdown",
   "metadata": {},
   "source": [
    "In case of 683 bad_loans predicted as true bad_loans, the Home Credit Group may take additional steps to assure the credit will be paid or can reject the application to avoid a loss.\n",
    "\n",
    "In case of this 317 badly predicted loans, I am going to calculate the exptected loss."
   ]
  },
  {
   "cell_type": "code",
   "execution_count": 30,
   "metadata": {},
   "outputs": [],
   "source": [
    "loss = bad_loans.groupby(\"predictions\").agg({\"AMT_CREDIT\": \"sum\"})"
   ]
  },
  {
   "cell_type": "code",
   "execution_count": 33,
   "metadata": {},
   "outputs": [
    {
     "data": {
      "text/html": [
       "<div>\n",
       "<style scoped>\n",
       "    .dataframe tbody tr th:only-of-type {\n",
       "        vertical-align: middle;\n",
       "    }\n",
       "\n",
       "    .dataframe tbody tr th {\n",
       "        vertical-align: top;\n",
       "    }\n",
       "\n",
       "    .dataframe thead th {\n",
       "        text-align: right;\n",
       "    }\n",
       "</style>\n",
       "<table border=\"1\" class=\"dataframe\">\n",
       "  <thead>\n",
       "    <tr style=\"text-align: right;\">\n",
       "      <th></th>\n",
       "      <th>AMT_CREDIT</th>\n",
       "      <th>loss</th>\n",
       "    </tr>\n",
       "    <tr>\n",
       "      <th>predictions</th>\n",
       "      <th></th>\n",
       "      <th></th>\n",
       "    </tr>\n",
       "  </thead>\n",
       "  <tbody>\n",
       "    <tr>\n",
       "      <th>0</th>\n",
       "      <td>202628857.5</td>\n",
       "      <td>10131442.88</td>\n",
       "    </tr>\n",
       "    <tr>\n",
       "      <th>1</th>\n",
       "      <td>360759573.0</td>\n",
       "      <td>18037978.65</td>\n",
       "    </tr>\n",
       "  </tbody>\n",
       "</table>\n",
       "</div>"
      ],
      "text/plain": [
       "              AMT_CREDIT         loss\n",
       "predictions                          \n",
       "0            202628857.5  10131442.88\n",
       "1            360759573.0  18037978.65"
      ]
     },
     "execution_count": 33,
     "metadata": {},
     "output_type": "execute_result"
    }
   ],
   "source": [
    "loss[\"loss\"] = round((loss[\"AMT_CREDIT\"] * 0.05), 2)\n",
    "loss"
   ]
  },
  {
   "attachments": {},
   "cell_type": "markdown",
   "metadata": {},
   "source": [
    "With my model - If borrowers does not pay 5% of their loans and copany would not predict that, the loss is estimated to be **10,1mln**. "
   ]
  },
  {
   "cell_type": "code",
   "execution_count": 35,
   "metadata": {},
   "outputs": [],
   "source": [
    "replace_idxs = np.random.choice(\n",
    "    bad_loans[bad_loans[\"predictions\"] == 1].index, size=83, replace=False\n",
    ")\n",
    "bad_loans.loc[replace_idxs, \"predictions\"] = 0"
   ]
  },
  {
   "cell_type": "code",
   "execution_count": 36,
   "metadata": {},
   "outputs": [
    {
     "data": {
      "text/plain": [
       "array([[  0,   0],\n",
       "       [400, 600]], dtype=int64)"
      ]
     },
     "execution_count": 36,
     "metadata": {},
     "output_type": "execute_result"
    }
   ],
   "source": [
    "confusion_matrix(bad_loans[\"TARGET\"], bad_loans[\"predictions\"])"
   ]
  },
  {
   "cell_type": "code",
   "execution_count": 37,
   "metadata": {},
   "outputs": [
    {
     "data": {
      "text/html": [
       "<div>\n",
       "<style scoped>\n",
       "    .dataframe tbody tr th:only-of-type {\n",
       "        vertical-align: middle;\n",
       "    }\n",
       "\n",
       "    .dataframe tbody tr th {\n",
       "        vertical-align: top;\n",
       "    }\n",
       "\n",
       "    .dataframe thead th {\n",
       "        text-align: right;\n",
       "    }\n",
       "</style>\n",
       "<table border=\"1\" class=\"dataframe\">\n",
       "  <thead>\n",
       "    <tr style=\"text-align: right;\">\n",
       "      <th></th>\n",
       "      <th>AMT_CREDIT</th>\n",
       "      <th>loss</th>\n",
       "    </tr>\n",
       "    <tr>\n",
       "      <th>predictions</th>\n",
       "      <th></th>\n",
       "      <th></th>\n",
       "    </tr>\n",
       "  </thead>\n",
       "  <tbody>\n",
       "    <tr>\n",
       "      <th>0</th>\n",
       "      <td>247341226.5</td>\n",
       "      <td>12367061.32</td>\n",
       "    </tr>\n",
       "    <tr>\n",
       "      <th>1</th>\n",
       "      <td>316047204.0</td>\n",
       "      <td>15802360.20</td>\n",
       "    </tr>\n",
       "  </tbody>\n",
       "</table>\n",
       "</div>"
      ],
      "text/plain": [
       "              AMT_CREDIT         loss\n",
       "predictions                          \n",
       "0            247341226.5  12367061.32\n",
       "1            316047204.0  15802360.20"
      ]
     },
     "execution_count": 37,
     "metadata": {},
     "output_type": "execute_result"
    }
   ],
   "source": [
    "loss = bad_loans.groupby(\"predictions\").agg({\"AMT_CREDIT\": \"sum\"})\n",
    "loss[\"loss\"] = round((loss[\"AMT_CREDIT\"] * 0.05), 2)\n",
    "loss"
   ]
  },
  {
   "attachments": {},
   "cell_type": "markdown",
   "metadata": {},
   "source": [
    "With the current model - If borrowers does not pay 5% of their loans and copany would not predict that, the loss is estimated to be **12,4mln**. "
   ]
  },
  {
   "cell_type": "code",
   "execution_count": 39,
   "metadata": {},
   "outputs": [
    {
     "data": {
      "text/plain": [
       "0.814516129032258"
      ]
     },
     "execution_count": 39,
     "metadata": {},
     "output_type": "execute_result"
    }
   ],
   "source": [
    "10.1 / 12.4"
   ]
  },
  {
   "attachments": {},
   "cell_type": "markdown",
   "metadata": {},
   "source": [
    "**If we replace the existing model with the model that I have built, a company can save up to 19% of current loss.**"
   ]
  },
  {
   "attachments": {},
   "cell_type": "markdown",
   "metadata": {},
   "source": [
    "----\n",
    "----"
   ]
  },
  {
   "cell_type": "code",
   "execution_count": 42,
   "metadata": {},
   "outputs": [],
   "source": [
    "class_0 = bad_loans[\n",
    "    (bad_loans[\"predictions\"] == 0) & (bad_loans[\"probability_class_0\"] >= 0.5)\n",
    "][[\"AMT_CREDIT\", \"probability_class_0\", \"probability_class_1\"]]"
   ]
  },
  {
   "cell_type": "code",
   "execution_count": 45,
   "metadata": {},
   "outputs": [
    {
     "data": {
      "text/html": [
       "<div>\n",
       "<style scoped>\n",
       "    .dataframe tbody tr th:only-of-type {\n",
       "        vertical-align: middle;\n",
       "    }\n",
       "\n",
       "    .dataframe tbody tr th {\n",
       "        vertical-align: top;\n",
       "    }\n",
       "\n",
       "    .dataframe thead th {\n",
       "        text-align: right;\n",
       "    }\n",
       "</style>\n",
       "<table border=\"1\" class=\"dataframe\">\n",
       "  <thead>\n",
       "    <tr style=\"text-align: right;\">\n",
       "      <th></th>\n",
       "      <th>AMT_CREDIT</th>\n",
       "      <th>probability_class_0</th>\n",
       "      <th>probability_class_1</th>\n",
       "    </tr>\n",
       "  </thead>\n",
       "  <tbody>\n",
       "    <tr>\n",
       "      <th>2352</th>\n",
       "      <td>539100.0</td>\n",
       "      <td>0.531196</td>\n",
       "      <td>0.468804</td>\n",
       "    </tr>\n",
       "    <tr>\n",
       "      <th>110396</th>\n",
       "      <td>284400.0</td>\n",
       "      <td>0.598519</td>\n",
       "      <td>0.401481</td>\n",
       "    </tr>\n",
       "    <tr>\n",
       "      <th>103074</th>\n",
       "      <td>808650.0</td>\n",
       "      <td>0.649565</td>\n",
       "      <td>0.350435</td>\n",
       "    </tr>\n",
       "    <tr>\n",
       "      <th>42214</th>\n",
       "      <td>270000.0</td>\n",
       "      <td>0.550609</td>\n",
       "      <td>0.449391</td>\n",
       "    </tr>\n",
       "    <tr>\n",
       "      <th>306367</th>\n",
       "      <td>1030680.0</td>\n",
       "      <td>0.550173</td>\n",
       "      <td>0.449827</td>\n",
       "    </tr>\n",
       "    <tr>\n",
       "      <th>...</th>\n",
       "      <td>...</td>\n",
       "      <td>...</td>\n",
       "      <td>...</td>\n",
       "    </tr>\n",
       "    <tr>\n",
       "      <th>80035</th>\n",
       "      <td>684657.0</td>\n",
       "      <td>0.597199</td>\n",
       "      <td>0.402801</td>\n",
       "    </tr>\n",
       "    <tr>\n",
       "      <th>172879</th>\n",
       "      <td>180000.0</td>\n",
       "      <td>0.508708</td>\n",
       "      <td>0.491292</td>\n",
       "    </tr>\n",
       "    <tr>\n",
       "      <th>232026</th>\n",
       "      <td>675000.0</td>\n",
       "      <td>0.509104</td>\n",
       "      <td>0.490896</td>\n",
       "    </tr>\n",
       "    <tr>\n",
       "      <th>10189</th>\n",
       "      <td>1143567.0</td>\n",
       "      <td>0.610138</td>\n",
       "      <td>0.389862</td>\n",
       "    </tr>\n",
       "    <tr>\n",
       "      <th>88614</th>\n",
       "      <td>90000.0</td>\n",
       "      <td>0.605570</td>\n",
       "      <td>0.394430</td>\n",
       "    </tr>\n",
       "  </tbody>\n",
       "</table>\n",
       "<p>178 rows × 3 columns</p>\n",
       "</div>"
      ],
      "text/plain": [
       "        AMT_CREDIT  probability_class_0  probability_class_1\n",
       "2352      539100.0             0.531196             0.468804\n",
       "110396    284400.0             0.598519             0.401481\n",
       "103074    808650.0             0.649565             0.350435\n",
       "42214     270000.0             0.550609             0.449391\n",
       "306367   1030680.0             0.550173             0.449827\n",
       "...            ...                  ...                  ...\n",
       "80035     684657.0             0.597199             0.402801\n",
       "172879    180000.0             0.508708             0.491292\n",
       "232026    675000.0             0.509104             0.490896\n",
       "10189    1143567.0             0.610138             0.389862\n",
       "88614      90000.0             0.605570             0.394430\n",
       "\n",
       "[178 rows x 3 columns]"
      ]
     },
     "execution_count": 45,
     "metadata": {},
     "output_type": "execute_result"
    }
   ],
   "source": [
    "class_0[class_0[\"probability_class_0\"] <= 0.65]"
   ]
  },
  {
   "attachments": {},
   "cell_type": "markdown",
   "metadata": {},
   "source": [
    "178 out of 317 bad predictions have prediction probability of class 0 equal or less than 0.65. If we add an alert for this kind of predictions, we could **minimize loss** of more than:"
   ]
  },
  {
   "cell_type": "code",
   "execution_count": 47,
   "metadata": {},
   "outputs": [
    {
     "data": {
      "text/plain": [
       "5356167.300000001"
      ]
     },
     "execution_count": 47,
     "metadata": {},
     "output_type": "execute_result"
    }
   ],
   "source": [
    "class_0[class_0[\"probability_class_0\"] <= 0.65][\"AMT_CREDIT\"].sum() * 0.05"
   ]
  },
  {
   "attachments": {},
   "cell_type": "markdown",
   "metadata": {},
   "source": [
    "**5mln.**"
   ]
  },
  {
   "attachments": {},
   "cell_type": "markdown",
   "metadata": {},
   "source": [
    "My suggestion is to allert this prediction based on value of predict_proba and apply additional verification steps for these borrowers."
   ]
  },
  {
   "attachments": {},
   "cell_type": "markdown",
   "metadata": {},
   "source": [
    "----\n",
    "----"
   ]
  }
 ],
 "metadata": {
  "kernelspec": {
   "display_name": "Python 3",
   "language": "python",
   "name": "python3"
  },
  "language_info": {
   "codemirror_mode": {
    "name": "ipython",
    "version": 3
   },
   "file_extension": ".py",
   "mimetype": "text/x-python",
   "name": "python",
   "nbconvert_exporter": "python",
   "pygments_lexer": "ipython3",
   "version": "3.10.0"
  },
  "orig_nbformat": 4
 },
 "nbformat": 4,
 "nbformat_minor": 2
}
